{
 "cells": [
  {
   "cell_type": "code",
   "execution_count": 93,
   "metadata": {},
   "outputs": [],
   "source": [
    "import sqlite3\n",
    "import pandas as pd\n",
    "\n",
    "takeaway_db = '../database/takeaway.db'\n",
    "deliveroo_db = '../database/deliveroo/db'\n",
    "ubereats_db = '../database/ubereats.db'\n",
    "\n",
    "def query_db(db, sql_query):\n",
    "    ''' input: db (Path to SQLite database), sql_query (str)\n",
    "        output: pandas DAtaFrame\n",
    "    '''\n",
    "    conn = sqlite3.connect(db)\n",
    "    with conn:\n",
    "        res = pd.read_sql_query(sql_query, conn)\n",
    "        if conn.close():\n",
    "            return res"
   ]
  },
  {
   "cell_type": "code",
   "execution_count": null,
   "metadata": {},
   "outputs": [],
   "source": [
    "query = "
   ]
  },
  {
   "cell_type": "code",
   "execution_count": 1,
   "metadata": {},
   "outputs": [
    {
     "name": "stdout",
     "output_type": "stream",
     "text": [
      "Top 10 Restaurants by Rating:\n",
      "Name: Neuhaus Woluwe Shopping, Rating: 5.0\n",
      "Name: La Bagatelle de Lou, Rating: 5.0\n",
      "Name: Yokubō - Meal Kits, Rating: 5.0\n",
      "Name: Bar Buenos Aires - Empanadas, Rating: 4.9\n",
      "Name: The Shack, Rating: 4.9\n",
      "Name: The Kind Coconut, Rating: 4.9\n",
      "Name: Neptune, Rating: 4.9\n",
      "Name: Blend Wines , Rating: 4.9\n",
      "Name: Moochie Aalst, Rating: 4.9\n",
      "Name: TIKA, Rating: 4.9\n",
      "\n",
      "Price Distribution of Menu Items:\n",
      "Total items: 292038\n",
      "Minimum price: -12.50\n",
      "Maximum price: 2000.00\n",
      "Average price: 6.06\n"
     ]
    }
   ],
   "source": [
    "import sqlite3\n",
    "\n",
    "# Connect to the Deliveroo database\n",
    "connection = sqlite3.connect(r\"..\\databases\\deliveroo.db\")\n",
    "\n",
    "# Create a cursor object\n",
    "cursor = connection.cursor()\n",
    "\n",
    "# SQL query for top 10 restaurants by rating\n",
    "query_restaurants = \"\"\"\n",
    "SELECT name, rating\n",
    "FROM restaurants\n",
    "ORDER BY rating DESC\n",
    "LIMIT 10;\n",
    "\"\"\"\n",
    "\n",
    "# SQL query to analyze price distribution of menu items\n",
    "query_price_distribution = \"\"\"\n",
    "SELECT price\n",
    "FROM menu_items;\n",
    "\"\"\"\n",
    "\n",
    "try:\n",
    "    # Execute the first query (Top 10 restaurants)\n",
    "    cursor.execute(query_restaurants)\n",
    "    results = cursor.fetchall()\n",
    "\n",
    "    # Print results for the first query\n",
    "    print(\"Top 10 Restaurants by Rating:\")\n",
    "    for row in results:\n",
    "        print(f\"Name: {row[0]}, Rating: {row[1]}\")\n",
    "\n",
    "    # Execute the second query (Price distribution)\n",
    "    cursor.execute(query_price_distribution)\n",
    "    prices = cursor.fetchall()\n",
    "\n",
    "    # Convert fetched prices to a list of floats (filter invalid entries)\n",
    "    price_list = []\n",
    "    for price in prices:\n",
    "        try:\n",
    "            price_list.append(float(price[0]))\n",
    "        except (ValueError, TypeError):\n",
    "            # Skip invalid entries\n",
    "            continue\n",
    "\n",
    "    # Print a summary of price distribution\n",
    "    print(\"\\nPrice Distribution of Menu Items:\")\n",
    "    print(f\"Total items: {len(price_list)}\")\n",
    "    print(f\"Minimum price: {min(price_list):.2f}\")\n",
    "    print(f\"Maximum price: {max(price_list):.2f}\")\n",
    "    print(f\"Average price: {sum(price_list) / len(price_list):.2f}\")\n",
    "\n",
    "except sqlite3.Error as e:\n",
    "    print(f\"Error: {e}\")\n",
    "\n",
    "finally:\n",
    "    # Close the connection\n",
    "    connection.close()"
   ]
  },
  {
   "cell_type": "code",
   "execution_count": 4,
   "metadata": {},
   "outputs": [
    {
     "name": "stdout",
     "output_type": "stream",
     "text": [
      "Negative prices found: []\n"
     ]
    }
   ],
   "source": [
    "import sqlite3\n",
    "\n",
    "# Connect to the Deliveroo database\n",
    "connection = sqlite3.connect(r\"..\\databases\\deliveroo.db\")\n",
    "\n",
    "# Create a cursor object\n",
    "cursor = connection.cursor()\n",
    "\n",
    "# SQL query to find items with negative prices\n",
    "query_find_negative_prices = \"\"\"\n",
    "SELECT *\n",
    "FROM menu_items\n",
    "WHERE price < 0;\n",
    "\"\"\"\n",
    "# Execute query to find negative prices\n",
    "cursor.execute(query_find_negative_prices)\n",
    "negative_prices = cursor.fetchall()\n",
    "print(\"Negative prices found:\", negative_prices)\n"
   ]
  },
  {
   "cell_type": "code",
   "execution_count": 5,
   "metadata": {},
   "outputs": [
    {
     "name": "stdout",
     "output_type": "stream",
     "text": [
      "Minimum price: -0.05\n"
     ]
    }
   ],
   "source": [
    "# SQL query to find the minimum price\n",
    "query_min_price = \"\"\"\n",
    "SELECT MIN(price) AS min_price\n",
    "FROM menu_items;\n",
    "\"\"\"\n",
    "\n",
    "cursor.execute(query_min_price)\n",
    "min_price = cursor.fetchone()\n",
    "print(\"Minimum price:\", min_price[0])\n"
   ]
  },
  {
   "cell_type": "code",
   "execution_count": 6,
   "metadata": {},
   "outputs": [
    {
     "name": "stdout",
     "output_type": "stream",
     "text": [
      "Items with minimum price: [(1042492433, 110376, 135994854, 0, 'Tropicana Sinaasappelsap', None, '-0.05'), (1042492178, 110376, 135994854, 0, 'Tropicana Appelsap', None, '-0.05'), (1042492105, 110376, 135994854, 0, 'Large Vittel', None, '-0.05'), (1042492203, 110376, 135994854, 0, 'Large Perrier', None, '-0.05'), (1042513158, 295468, 135994217, 0, 'Tropicana Appelsap', None, '-0.05'), (1042512988, 295468, 135994217, 0, 'Large Vittel', None, '-0.05'), (1042512927, 295468, 135994217, 0, 'Large Perrier', None, '-0.05'), (1042491713, 275405, 135994469, 0, 'Tropicana Sinaasappelsap', None, '-0.05'), (1042491580, 275405, 135994469, 0, 'Tropicana Appelsap', None, '-0.05'), (1042491473, 275405, 135994469, 0, 'Large Vittel', None, '-0.05'), (1042491583, 275405, 135994469, 0, 'Large Perrier', None, '-0.05'), (1133723168, 449340, 145251859, 0, 'Tropicana Sinaasappelsap', None, '-0.05'), (1133722927, 449340, 145251859, 0, 'Tropicana Appelsap', None, '-0.05'), (1133722953, 449340, 145251859, 0, 'Large Vittel', None, '-0.05'), (1133723297, 449340, 145251859, 0, 'Large Perrier', None, '-0.05'), (1042484317, 113345, 135994830, 0, 'Tropicana Sinaasappelsap', None, '-0.05'), (1042484519, 113345, 135994830, 0, 'Large Vittel', None, '-0.05'), (1042484245, 113345, 135994830, 0, 'Large Perrier', None, '-0.05'), (1042475704, 110367, 135994842, 0, 'Tropicana Sinaasappelsap', None, '-0.05'), (1042475868, 110367, 135994842, 0, 'Tropicana Appelsap', None, '-0.05'), (1042475638, 110367, 135994842, 0, 'Large Vittel', None, '-0.05'), (1042475663, 110367, 135994842, 0, 'Large Perrier', None, '-0.05'), (1042606643, 115526, 135994554, 0, 'Tropicana Sinaasappelsap', None, '-0.05'), (1042606608, 115526, 135994554, 0, 'Large Vittel', None, '-0.05'), (1042606576, 115526, 135994554, 0, 'Large Perrier', None, '-0.05'), (1042606054, 258101, 135994493, 0, 'Tropicana Sinaasappelsap', None, '-0.05'), (1042605713, 258101, 135994493, 0, 'Tropicana Appelsap', None, '-0.05'), (1042605720, 258101, 135994493, 0, 'Large Vittel', None, '-0.05'), (1042605992, 258101, 135994493, 0, 'Large Perrier', None, '-0.05'), (1042686930, 115516, 135994566, 0, 'Tropicana Sinaasappelsap', None, '-0.05'), (1042686743, 115516, 135994566, 0, 'Large Vittel', None, '-0.05'), (1042686823, 115516, 135994566, 0, 'Large Perrier', None, '-0.05'), (1042484062, 296066, 135994158, 0, 'Tropicana Sinaasappelsap', None, '-0.05'), (1042484036, 296066, 135994158, 0, 'Tropicana Appelsap', None, '-0.05'), (1042484112, 296066, 135994158, 0, 'Large Vittel', None, '-0.05'), (1042484134, 296066, 135994158, 0, 'Large Perrier', None, '-0.05'), (1282765650, 470541, 147171543, 0, 'caramel', None, '-0.05'), (1132428572, 470541, 147171543, 0, 'Tropicana Sinaasappelsap', None, '-0.05'), (1132428558, 470541, 147171543, 0, 'Tropicana Appelsap', None, '-0.05'), (1132428716, 470541, 147171543, 0, 'Large Vittel', None, '-0.05'), (1132428541, 470541, 147171543, 0, 'Large Perrier', None, '-0.05'), (1042596353, 273591, 135994481, 0, 'Tropicana Sinaasappelsap', None, '-0.05'), (1042596488, 273591, 135994481, 0, 'Tropicana Appelsap', None, '-0.05'), (1042596468, 273591, 135994481, 0, 'Large Vittel', None, '-0.05'), (1042553216, 115805, 135994541, 0, 'Tropicana Sinaasappelsap', None, '-0.05'), (1042553130, 115805, 135994541, 0, 'Tropicana Appelsap', None, '-0.05'), (1042553228, 115805, 135994541, 0, 'Large Vittel', None, '-0.05'), (1042553113, 115805, 135994541, 0, 'Large Perrier', None, '-0.05'), (1042508482, 286424, 135994457, 0, 'Tropicana Sinaasappelsap', None, '-0.05'), (1042508654, 286424, 135994457, 0, 'Tropicana Appelsap', None, '-0.05'), (1042508522, 286424, 135994457, 0, 'Large Vittel', None, '-0.05'), (1042508605, 286424, 135994457, 0, 'Large Perrier', None, '-0.05'), (1101396922, 336623, 144739433, 0, 'Tropicana Sinaasappelsap', None, '-0.05'), (1101396729, 336623, 144739433, 0, 'Tropicana Appelsap', None, '-0.05'), (1101396852, 336623, 144739433, 0, 'Large Vittel', None, '-0.05'), (1101396992, 336623, 144739433, 0, 'Large Perrier', None, '-0.05'), (1042430041, 343569, 135994056, 0, 'Tropicana Sinaasappelsap', None, '-0.05'), (1042430076, 343569, 135994056, 0, 'Tropicana Appelsap', None, '-0.05'), (1042430313, 343569, 135994056, 0, 'Large Vittel', None, '-0.05'), (1042430269, 343569, 135994056, 0, 'Large Perrier', None, '-0.05'), (1042642195, 113339, 135994666, 0, 'Tropicana Sinaasappelsap', None, '-0.05'), (1042642504, 113339, 135994666, 0, 'Tropicana Appelsap', None, '-0.05'), (1042642214, 113339, 135994666, 0, 'Large Vittel', None, '-0.05'), (1042642285, 113339, 135994666, 0, 'Large Perrier', None, '-0.05'), (1133748536, 421205, 144759732, 0, 'Tropicana Sinaasappelsap', None, '-0.05'), (1133748508, 421205, 144759732, 0, 'Tropicana Appelsap', None, '-0.05'), (1133748616, 421205, 144759732, 0, 'Large Vittel', None, '-0.05'), (1133748470, 421205, 144759732, 0, 'Large Perrier', None, '-0.05'), (1279568238, 420423, 144727268, 0, 'Tropicana Appelsap', None, '-0.05'), (1279568255, 420423, 144727268, 0, 'Large Vittel', None, '-0.05'), (1279568256, 420423, 144727268, 0, 'Thee English Breakfast', None, '-0.05')]\n"
     ]
    }
   ],
   "source": [
    "# SQL query to find items with the minimum price\n",
    "query_items_with_min_price = \"\"\"\n",
    "SELECT *\n",
    "FROM menu_items\n",
    "WHERE price = (\n",
    "    SELECT MIN(price) FROM menu_items\n",
    ");\n",
    "\"\"\"\n",
    "\n",
    "cursor.execute(query_items_with_min_price)\n",
    "items_with_min_price = cursor.fetchall()\n",
    "print(\"Items with minimum price:\", items_with_min_price)\n"
   ]
  },
  {
   "cell_type": "code",
   "execution_count": 16,
   "metadata": {},
   "outputs": [
    {
     "name": "stdout",
     "output_type": "stream",
     "text": [
      "Minimum price: -0.05\n"
     ]
    }
   ],
   "source": [
    "# SQL query to find the minimum price\n",
    "query_min_price = \"\"\"\n",
    "SELECT MIN(price) AS min_price\n",
    "FROM menu_items\n",
    "WHERE price > 0;\n",
    "\"\"\"\n",
    "\n",
    "cursor.execute(query_min_price)\n",
    "min_price = cursor.fetchone()\n",
    "print(\"Minimum price:\", min_price[0])\n"
   ]
  },
  {
   "cell_type": "code",
   "execution_count": 17,
   "metadata": {},
   "outputs": [
    {
     "name": "stdout",
     "output_type": "stream",
     "text": [
      "Column info: [(0, 'id', 'INTEGER', 0, None, 1), (1, 'restaurant_id', 'INTEGER', 0, None, 2), (2, 'categorie_id', 'INTEGER', 0, None, 0), (3, 'alcohol', 'BOOLEAN', 0, None, 0), (4, 'name', 'TEXT', 0, None, 0), (5, 'description', 'TEXT', 0, None, 0), (6, 'price', '', 0, None, 0)]\n"
     ]
    }
   ],
   "source": [
    "# SQL query to check the type of the 'price' column\n",
    "query_check_column_type = \"\"\"\n",
    "PRAGMA table_info(menu_items);\n",
    "\"\"\"\n",
    "\n",
    "cursor.execute(query_check_column_type)\n",
    "columns_info = cursor.fetchall()\n",
    "print(\"Column info:\", columns_info)\n"
   ]
  },
  {
   "cell_type": "code",
   "execution_count": 18,
   "metadata": {},
   "outputs": [],
   "source": [
    "# SQL query to cast price values to REAL and store in a new column\n",
    "query_convert_prices = \"\"\"\n",
    "UPDATE menu_items\n",
    "SET price_numeric = CAST(price AS REAL);\n",
    "\"\"\"\n"
   ]
  },
  {
   "cell_type": "code",
   "execution_count": 19,
   "metadata": {},
   "outputs": [],
   "source": [
    "# SQL query to safely convert price to REAL\n",
    "query_safe_convert_prices = \"\"\"\n",
    "UPDATE menu_items\n",
    "SET price_numeric = CASE\n",
    "    WHEN price NOT LIKE '%[^0-9.-]%' THEN CAST(price AS REAL)\n",
    "    ELSE NULL\n",
    "END;\n",
    "\"\"\"\n"
   ]
  },
  {
   "cell_type": "code",
   "execution_count": null,
   "metadata": {},
   "outputs": [
    {
     "name": "stdout",
     "output_type": "stream",
     "text": [
      "New column 'price_numeric' added.\n",
      "Values from 'price' converted to 'price_numeric'.\n"
     ]
    }
   ],
   "source": [
    "#PYTHON SCRYPT\n",
    "# Add a new numeric column\n",
    "query_add_numeric_column = \"\"\"\n",
    "ALTER TABLE menu_items ADD COLUMN price_numeric REAL;\n",
    "\"\"\"\n",
    "cursor.execute(query_add_numeric_column)\n",
    "connection.commit()\n",
    "print(\"New column 'price_numeric' added.\")\n",
    "\n",
    "# Convert values from price to price_numeric\n",
    "query_safe_convert_prices = \"\"\"\n",
    "UPDATE menu_items\n",
    "SET price_numeric = CASE\n",
    "    WHEN price NOT LIKE '%[^0-9.-]%' THEN CAST(price AS REAL)\n",
    "    ELSE NULL\n",
    "END;\n",
    "\"\"\"\n",
    "cursor.execute(query_safe_convert_prices)\n",
    "connection.commit()\n",
    "print(\"Values from 'price' converted to 'price_numeric'.\")\n"
   ]
  },
  {
   "cell_type": "code",
   "execution_count": null,
   "metadata": {},
   "outputs": [],
   "source": []
  },
  {
   "cell_type": "code",
   "execution_count": 21,
   "metadata": {},
   "outputs": [
    {
     "name": "stdout",
     "output_type": "stream",
     "text": [
      "Converted data: [('3.5', 3.5), ('25.0', 25.0), ('17.5', 17.5), ('7.0', 7.0), ('14.5', 14.5), ('9.5', 9.5), ('5.5', 5.5), ('6.5', 6.5), ('14.5', 14.5), ('11.5', 11.5)]\n"
     ]
    }
   ],
   "source": [
    "# Check the first 10 rows of price and price_numeric\n",
    "query_check_conversion = \"\"\"\n",
    "SELECT price, price_numeric\n",
    "FROM menu_items\n",
    "LIMIT 10;\n",
    "\"\"\"\n",
    "cursor.execute(query_check_conversion)\n",
    "converted_data = cursor.fetchall()\n",
    "print(\"Converted data:\", converted_data)\n"
   ]
  },
  {
   "cell_type": "code",
   "execution_count": 22,
   "metadata": {},
   "outputs": [
    {
     "name": "stdout",
     "output_type": "stream",
     "text": [
      "Minimum price: 0.02\n"
     ]
    }
   ],
   "source": [
    "# SQL query to find the minimum price after conversion\n",
    "query_min_valid_price = \"\"\"\n",
    "SELECT MIN(price_numeric) AS min_price\n",
    "FROM menu_items\n",
    "WHERE price_numeric > 0;\n",
    "\"\"\"\n",
    "cursor.execute(query_min_valid_price)\n",
    "min_price = cursor.fetchone()\n",
    "print(\"Minimum price:\", min_price[0])\n"
   ]
  },
  {
   "cell_type": "code",
   "execution_count": 23,
   "metadata": {},
   "outputs": [
    {
     "name": "stdout",
     "output_type": "stream",
     "text": [
      "Minimum Price: 0.02\n",
      "Maximum Price: 2000.00\n",
      "Average Price: 7.42\n"
     ]
    }
   ],
   "source": [
    "# SQL query to find minimum, maximum, and average prices\n",
    "query_basic_price_statistics = \"\"\"\n",
    "SELECT \n",
    "    MIN(price_numeric) AS min_price,\n",
    "    MAX(price_numeric) AS max_price,\n",
    "    AVG(price_numeric) AS avg_price\n",
    "FROM menu_items\n",
    "WHERE price_numeric > 0;\n",
    "\"\"\"\n",
    "\n",
    "# Execute the query and fetch results\n",
    "cursor.execute(query_basic_price_statistics)\n",
    "price_stats = cursor.fetchone()\n",
    "\n",
    "# Display the results\n",
    "print(f\"Minimum Price: {price_stats[0]:.2f}\")\n",
    "print(f\"Maximum Price: {price_stats[1]:.2f}\")\n",
    "print(f\"Average Price: {price_stats[2]:.2f}\")\n"
   ]
  },
  {
   "cell_type": "code",
   "execution_count": 25,
   "metadata": {},
   "outputs": [
    {
     "name": "stdout",
     "output_type": "stream",
     "text": [
      "Median Price: 4.59\n"
     ]
    }
   ],
   "source": [
    "# SQL query to calculate the median price\n",
    "query_median_price = \"\"\"\n",
    "WITH ranked_prices AS (\n",
    "    SELECT \n",
    "        price_numeric,\n",
    "        ROW_NUMBER() OVER (ORDER BY price_numeric) AS row_num,\n",
    "        COUNT(*) OVER () AS total_count\n",
    "    FROM menu_items\n",
    "    WHERE price_numeric > 0\n",
    ")\n",
    "SELECT \n",
    "    AVG(price_numeric) AS median_price\n",
    "FROM ranked_prices\n",
    "WHERE row_num IN (\n",
    "    (total_count + 1) / 2, \n",
    "    (total_count + 2) / 2\n",
    ");\n",
    "\"\"\"\n",
    "\n",
    "# Execute the query and fetch the result\n",
    "cursor.execute(query_median_price)\n",
    "median_price = cursor.fetchone()[0]\n",
    "\n",
    "# Display the result\n",
    "print(f\"Median Price: {median_price:.2f}\")\n"
   ]
  },
  {
   "cell_type": "code",
   "execution_count": 27,
   "metadata": {},
   "outputs": [
    {
     "name": "stdout",
     "output_type": "stream",
     "text": [
      "          Metric    Value\n",
      "0  Minimum Price     0.02\n",
      "1  Maximum Price  2000.00\n",
      "2  Average Price     7.42\n",
      "3   Median Price     4.59\n"
     ]
    }
   ],
   "source": [
    "import pandas as pd\n",
    "\n",
    "# Create a DataFrame for price statistics\n",
    "price_statistics_df = pd.DataFrame({\n",
    "    'Metric': ['Minimum Price', 'Maximum Price', 'Average Price', 'Median Price'],\n",
    "    'Value': [round(price_stats[0], 2), round(price_stats[1], 2), round(price_stats[2], 2), round(median_price, 2)]\n",
    "})\n",
    "\n",
    "print(price_statistics_df)\n",
    "\n"
   ]
  },
  {
   "cell_type": "code",
   "execution_count": 29,
   "metadata": {},
   "outputs": [],
   "source": [
    "price_statistics = pd.DataFrame({\n",
    "    'Metric': ['Minimum Price', 'Maximum Price', 'Average Price', 'Median Price'],\n",
    "    'Value': [round(price_stats[0], 2), round(price_stats[1], 2), round(price_stats[2], 2), round(median_price, 2)]\n",
    "})\n",
    "price_statistics_df = pd.DataFrame(price_statistics)\n"
   ]
  },
  {
   "cell_type": "markdown",
   "metadata": {},
   "source": [
    "Now let's look at the average, minimum and maximum price for each category of dishes on the menu"
   ]
  },
  {
   "cell_type": "code",
   "execution_count": 30,
   "metadata": {},
   "outputs": [],
   "source": [
    "# SQL query to calculate price distribution by categories\n",
    "query_price_by_category = \"\"\"\n",
    "SELECT \n",
    "    categorie_id AS category,\n",
    "    MIN(price_numeric) AS min_price,\n",
    "    MAX(price_numeric) AS max_price,\n",
    "    AVG(price_numeric) AS avg_price\n",
    "FROM menu_items\n",
    "WHERE price_numeric > 0\n",
    "GROUP BY categorie_id\n",
    "ORDER BY avg_price DESC;\n",
    "\"\"\"\n"
   ]
  },
  {
   "cell_type": "code",
   "execution_count": 32,
   "metadata": {},
   "outputs": [
    {
     "name": "stdout",
     "output_type": "stream",
     "text": [
      "                      Metric   Category  Min Price  Max Price   Avg Price\n",
      "0      Category Distribution  155547475      20.00    2000.00  416.000000\n",
      "1      Category Distribution  132638832      19.90    1990.00  352.250000\n",
      "2      Category Distribution  122079052       6.00     600.00  244.800000\n",
      "3      Category Distribution   62133568     106.00     425.00  188.285714\n",
      "4      Category Distribution  140622320     150.00     150.00  150.000000\n",
      "...                      ...        ...        ...        ...         ...\n",
      "22719  Category Distribution  105952271       0.10       0.20    0.150000\n",
      "22720  Category Distribution    1809994       0.15       0.15    0.150000\n",
      "22721  Category Distribution     740719       0.15       0.15    0.150000\n",
      "22722  Category Distribution   40188846       0.10       0.20    0.125000\n",
      "22723  Category Distribution  129531405       0.05       0.05    0.050000\n",
      "\n",
      "[22724 rows x 5 columns]\n"
     ]
    }
   ],
   "source": [
    "# Execute the query for price distribution by categories\n",
    "cursor.execute(query_price_by_category)\n",
    "price_by_category = cursor.fetchall()\n",
    "\n",
    "# Prepare data for DataFrame\n",
    "category_distribution = {\n",
    "    'Metric': ['Category Distribution'] * len(price_by_category),\n",
    "    'Category': [row[0] for row in price_by_category],\n",
    "    'Min Price': [row[1] for row in price_by_category],\n",
    "    'Max Price': [row[2] for row in price_by_category],\n",
    "    'Avg Price': [row[3] for row in price_by_category]\n",
    "}\n",
    "\n",
    "# Create a DataFrame for this step\n",
    "category_distribution_df = pd.DataFrame(category_distribution)\n",
    "\n",
    "print(category_distribution_df)\n",
    "\n",
    "\n"
   ]
  },
  {
   "cell_type": "code",
   "execution_count": 33,
   "metadata": {},
   "outputs": [
    {
     "name": "stdout",
     "output_type": "stream",
     "text": [
      "                      Metric    Value     Category  Min Price  Max Price  \\\n",
      "0              Minimum Price     0.02          NaN        NaN        NaN   \n",
      "1              Maximum Price  2000.00          NaN        NaN        NaN   \n",
      "2              Average Price     7.42          NaN        NaN        NaN   \n",
      "3               Median Price     4.59          NaN        NaN        NaN   \n",
      "4      Category Distribution      NaN  155547475.0      20.00    2000.00   \n",
      "...                      ...      ...          ...        ...        ...   \n",
      "22723  Category Distribution      NaN  105952271.0       0.10       0.20   \n",
      "22724  Category Distribution      NaN    1809994.0       0.15       0.15   \n",
      "22725  Category Distribution      NaN     740719.0       0.15       0.15   \n",
      "22726  Category Distribution      NaN   40188846.0       0.10       0.20   \n",
      "22727  Category Distribution      NaN  129531405.0       0.05       0.05   \n",
      "\n",
      "       Avg Price  \n",
      "0            NaN  \n",
      "1            NaN  \n",
      "2            NaN  \n",
      "3            NaN  \n",
      "4        416.000  \n",
      "...          ...  \n",
      "22723      0.150  \n",
      "22724      0.150  \n",
      "22725      0.150  \n",
      "22726      0.125  \n",
      "22727      0.050  \n",
      "\n",
      "[22728 rows x 6 columns]\n"
     ]
    }
   ],
   "source": [
    "# Combine with the existing DataFrame (price_statistics_df from step 2.1)\n",
    "main_df = pd.concat([price_statistics_df, category_distribution_df], ignore_index=True)\n",
    "\n",
    "print(main_df)\n"
   ]
  },
  {
   "cell_type": "markdown",
   "metadata": {},
   "source": [
    "NOW TOP 10 the most expensive dishes"
   ]
  },
  {
   "cell_type": "code",
   "execution_count": 51,
   "metadata": {},
   "outputs": [],
   "source": [
    "# SQL query for the most expensive items\n",
    "query_most_expensive_items = \"\"\"\n",
    "SELECT \n",
    "    name AS item_name,\n",
    "    price_numeric AS price\n",
    "FROM menu_items\n",
    "WHERE price_numeric IS NOT NULL \n",
    "  AND price_numeric > 0\n",
    "ORDER BY price_numeric DESC\n",
    "LIMIT 10;\n",
    "\"\"\"\n"
   ]
  },
  {
   "cell_type": "markdown",
   "metadata": {},
   "source": [
    "TOP 10 the most cheapest dishes"
   ]
  },
  {
   "cell_type": "code",
   "execution_count": 52,
   "metadata": {},
   "outputs": [],
   "source": [
    "# SQL query for the cheapest items\n",
    "query_cheapest_items = \"\"\"\n",
    "SELECT \n",
    "    name AS item_name,\n",
    "    price_numeric AS price\n",
    "FROM menu_items\n",
    "WHERE price_numeric IS NOT NULL \n",
    "  AND price_numeric > 0\n",
    "ORDER BY price_numeric ASC\n",
    "LIMIT 10;\n",
    "\"\"\"\n"
   ]
  },
  {
   "cell_type": "code",
   "execution_count": 53,
   "metadata": {},
   "outputs": [
    {
     "name": "stdout",
     "output_type": "stream",
     "text": [
      "                      Metric    Value     Category  Min Price  Max Price  \\\n",
      "0              Minimum Price     0.02          NaN        NaN        NaN   \n",
      "1              Maximum Price  2000.00          NaN        NaN        NaN   \n",
      "2              Average Price     7.42          NaN        NaN        NaN   \n",
      "3               Median Price     4.59          NaN        NaN        NaN   \n",
      "4      Category Distribution      NaN  155547475.0       20.0     2000.0   \n",
      "...                      ...      ...          ...        ...        ...   \n",
      "91264         Cheapest Items      NaN          NaN        NaN        NaN   \n",
      "91265         Cheapest Items      NaN          NaN        NaN        NaN   \n",
      "91266         Cheapest Items      NaN          NaN        NaN        NaN   \n",
      "91267         Cheapest Items      NaN          NaN        NaN        NaN   \n",
      "91268         Cheapest Items      NaN          NaN        NaN        NaN   \n",
      "\n",
      "       Avg Price Item Name  Price  \n",
      "0            NaN       NaN    NaN  \n",
      "1            NaN       NaN    NaN  \n",
      "2            NaN       NaN    NaN  \n",
      "3            NaN       NaN    NaN  \n",
      "4          416.0       NaN    NaN  \n",
      "...          ...       ...    ...  \n",
      "91264        NaN   Miranda   0.03  \n",
      "91265        NaN   Miranda   0.03  \n",
      "91266        NaN   Miranda   0.03  \n",
      "91267        NaN   Miranda   0.03  \n",
      "91268        NaN   Miranda   0.03  \n",
      "\n",
      "[91269 rows x 8 columns]\n"
     ]
    }
   ],
   "source": [
    "# Execute the query for most expensive items\n",
    "cursor.execute(query_most_expensive_items)\n",
    "most_expensive = cursor.fetchall()\n",
    "\n",
    "# Execute the query for cheapest items\n",
    "cursor.execute(query_cheapest_items)\n",
    "cheapest_items = cursor.fetchall()\n",
    "\n",
    "# Prepare data for DataFrame\n",
    "most_expensive_data = {\n",
    "    'Metric': ['Most Expensive Items'] * len(most_expensive),\n",
    "    'Item Name': [row[0] for row in most_expensive],\n",
    "    'Price': [row[1] for row in most_expensive]\n",
    "}\n",
    "\n",
    "cheapest_items_data = {\n",
    "    'Metric': ['Cheapest Items'] * len(cheapest_items),\n",
    "    'Item Name': [row[0] for row in cheapest_items],\n",
    "    'Price': [row[1] for row in cheapest_items]\n",
    "}\n",
    "\n",
    "# Create DataFrames\n",
    "most_expensive_df = pd.DataFrame(most_expensive_data)\n",
    "cheapest_items_df = pd.DataFrame(cheapest_items_data)\n",
    "\n",
    "# Combine with the main DataFrame\n",
    "main_df = pd.concat([main_df, most_expensive_df, cheapest_items_df], ignore_index=True)\n",
    "\n",
    "print(main_df)\n"
   ]
  },
  {
   "cell_type": "code",
   "execution_count": 54,
   "metadata": {},
   "outputs": [],
   "source": [
    "# Prepare data for DataFrame for most expensive items\n",
    "most_expensive_data = {\n",
    "    'Metric': ['Most Expensive Items'] * len(most_expensive),\n",
    "    'Item Name': [row[0] for row in most_expensive],\n",
    "    'Price': [row[1] for row in most_expensive]\n",
    "}\n",
    "\n",
    "# Prepare data for DataFrame for cheapest items\n",
    "cheapest_items_data = {\n",
    "    'Metric': ['Cheapest Items'] * len(cheapest_items),\n",
    "    'Item Name': [row[0] for row in cheapest_items],\n",
    "    'Price': [row[1] for row in cheapest_items]\n",
    "}\n",
    "\n",
    "# Create DataFrames\n",
    "most_expensive_df = pd.DataFrame(most_expensive_data)\n",
    "cheapest_items_df = pd.DataFrame(cheapest_items_data)\n"
   ]
  },
  {
   "cell_type": "code",
   "execution_count": 55,
   "metadata": {},
   "outputs": [
    {
     "name": "stdout",
     "output_type": "stream",
     "text": [
      "                      Metric    Value     Category  Min Price  Max Price  \\\n",
      "0              Minimum Price     0.02          NaN        NaN        NaN   \n",
      "1              Maximum Price  2000.00          NaN        NaN        NaN   \n",
      "2              Average Price     7.42          NaN        NaN        NaN   \n",
      "3               Median Price     4.59          NaN        NaN        NaN   \n",
      "4      Category Distribution      NaN  155547475.0       20.0     2000.0   \n",
      "...                      ...      ...          ...        ...        ...   \n",
      "91284         Cheapest Items      NaN          NaN        NaN        NaN   \n",
      "91285         Cheapest Items      NaN          NaN        NaN        NaN   \n",
      "91286         Cheapest Items      NaN          NaN        NaN        NaN   \n",
      "91287         Cheapest Items      NaN          NaN        NaN        NaN   \n",
      "91288         Cheapest Items      NaN          NaN        NaN        NaN   \n",
      "\n",
      "       Avg Price Item Name  Price  \n",
      "0            NaN       NaN    NaN  \n",
      "1            NaN       NaN    NaN  \n",
      "2            NaN       NaN    NaN  \n",
      "3            NaN       NaN    NaN  \n",
      "4          416.0       NaN    NaN  \n",
      "...          ...       ...    ...  \n",
      "91284        NaN   Miranda   0.03  \n",
      "91285        NaN   Miranda   0.03  \n",
      "91286        NaN   Miranda   0.03  \n",
      "91287        NaN   Miranda   0.03  \n",
      "91288        NaN   Miranda   0.03  \n",
      "\n",
      "[91289 rows x 8 columns]\n"
     ]
    }
   ],
   "source": [
    "# Combine with the main DataFrame\n",
    "main_df = pd.concat([main_df, most_expensive_df, cheapest_items_df], ignore_index=True)\n",
    "\n",
    "print(main_df)\n"
   ]
  },
  {
   "cell_type": "code",
   "execution_count": 39,
   "metadata": {},
   "outputs": [
    {
     "name": "stdout",
     "output_type": "stream",
     "text": [
      "[('Lamsbrochette Iskender', 2000.0), ('19 Som Tam Thai', 1990.0), ('Soepvlees zonder been', 1049.0), ('Vegetable Samosa', 600.0), ('Onion Bhajee', 600.0), ('Pauillac, Cru Classé, Château Pichon Longueville, 2005', 425.0), ('Miraval', 375.0), ('400 Wings', 250.0), ('Tignanello Toscana 2016 bottle', 245.0), ('GRAND SIECLE Laurent Perrier', 245.0)]\n",
      "[('Ice Squeeze', 0.02), ('Miranda', 0.03), ('Miranda', 0.03), ('Miranda', 0.03), ('Miranda', 0.03), ('Miranda', 0.03), ('Miranda', 0.03), ('Miranda', 0.03), ('Miranda', 0.03), ('Miranda', 0.03)]\n"
     ]
    }
   ],
   "source": [
    "print(most_expensive)\n",
    "print(cheapest_items)\n"
   ]
  },
  {
   "cell_type": "code",
   "execution_count": 56,
   "metadata": {},
   "outputs": [],
   "source": [
    "# Prepare data for DataFrame for most expensive items\n",
    "most_expensive_data = {\n",
    "    'Metric': ['Most Expensive Items'] * len(most_expensive),\n",
    "    'Item Name': [row[0] for row in most_expensive],\n",
    "    'Price': [row[1] for row in most_expensive],\n",
    "    'Category': [None] * len(most_expensive),  # Add missing columns\n",
    "    'Min Price': [None] * len(most_expensive),\n",
    "    'Max Price': [None] * len(most_expensive),\n",
    "    'Avg Price': [None] * len(most_expensive),\n",
    "    'Value': [None] * len(most_expensive)\n",
    "}\n",
    "\n",
    "# Prepare data for DataFrame for cheapest items\n",
    "cheapest_items_data = {\n",
    "    'Metric': ['Cheapest Items'] * len(cheapest_items),\n",
    "    'Item Name': [row[0] for row in cheapest_items],\n",
    "    'Price': [row[1] for row in cheapest_items],\n",
    "    'Category': [None] * len(cheapest_items),\n",
    "    'Min Price': [None] * len(cheapest_items),\n",
    "    'Max Price': [None] * len(cheapest_items),\n",
    "    'Avg Price': [None] * len(cheapest_items),\n",
    "    'Value': [None] * len(cheapest_items)\n",
    "}\n",
    "\n",
    "# Create DataFrames\n",
    "most_expensive_df = pd.DataFrame(most_expensive_data)\n",
    "cheapest_items_df = pd.DataFrame(cheapest_items_data)\n"
   ]
  },
  {
   "cell_type": "code",
   "execution_count": 57,
   "metadata": {},
   "outputs": [
    {
     "name": "stdout",
     "output_type": "stream",
     "text": [
      "                      Metric    Value     Category  Min Price  Max Price  \\\n",
      "0              Minimum Price     0.02          NaN        NaN        NaN   \n",
      "1              Maximum Price  2000.00          NaN        NaN        NaN   \n",
      "2              Average Price     7.42          NaN        NaN        NaN   \n",
      "3               Median Price     4.59          NaN        NaN        NaN   \n",
      "4      Category Distribution      NaN  155547475.0       20.0     2000.0   \n",
      "...                      ...      ...          ...        ...        ...   \n",
      "91304         Cheapest Items      NaN          NaN        NaN        NaN   \n",
      "91305         Cheapest Items      NaN          NaN        NaN        NaN   \n",
      "91306         Cheapest Items      NaN          NaN        NaN        NaN   \n",
      "91307         Cheapest Items      NaN          NaN        NaN        NaN   \n",
      "91308         Cheapest Items      NaN          NaN        NaN        NaN   \n",
      "\n",
      "       Avg Price Item Name  Price  \n",
      "0            NaN       NaN    NaN  \n",
      "1            NaN       NaN    NaN  \n",
      "2            NaN       NaN    NaN  \n",
      "3            NaN       NaN    NaN  \n",
      "4          416.0       NaN    NaN  \n",
      "...          ...       ...    ...  \n",
      "91304        NaN   Miranda   0.03  \n",
      "91305        NaN   Miranda   0.03  \n",
      "91306        NaN   Miranda   0.03  \n",
      "91307        NaN   Miranda   0.03  \n",
      "91308        NaN   Miranda   0.03  \n",
      "\n",
      "[91309 rows x 8 columns]\n"
     ]
    },
    {
     "name": "stderr",
     "output_type": "stream",
     "text": [
      "C:\\Users\\Anastasiia\\AppData\\Local\\Temp\\ipykernel_7028\\1941917689.py:2: FutureWarning: The behavior of DataFrame concatenation with empty or all-NA entries is deprecated. In a future version, this will no longer exclude empty or all-NA columns when determining the result dtypes. To retain the old behavior, exclude the relevant entries before the concat operation.\n",
      "  main_df = pd.concat([main_df, most_expensive_df, cheapest_items_df], ignore_index=True)\n"
     ]
    }
   ],
   "source": [
    "# Append the new DataFrames to the main DataFrame\n",
    "main_df = pd.concat([main_df, most_expensive_df, cheapest_items_df], ignore_index=True)\n",
    "\n",
    "# Print the updated DataFrame\n",
    "print(main_df)\n"
   ]
  },
  {
   "cell_type": "markdown",
   "metadata": {},
   "source": [
    "ABNORMAL values"
   ]
  },
  {
   "cell_type": "code",
   "execution_count": 43,
   "metadata": {},
   "outputs": [],
   "source": [
    "# SQL query to calculate mean and standard deviation for prices\n",
    "query_price_stats = \"\"\"\n",
    "SELECT \n",
    "    AVG(price_numeric) AS avg_price,\n",
    "    (SUM((price_numeric - (SELECT AVG(price_numeric) FROM menu_items WHERE price_numeric > 0)) * \n",
    "         (price_numeric - (SELECT AVG(price_numeric) FROM menu_items WHERE price_numeric > 0))) / \n",
    "         (COUNT(price_numeric) - 1)) AS std_dev\n",
    "FROM menu_items\n",
    "WHERE price_numeric > 0;\n",
    "\"\"\"\n"
   ]
  },
  {
   "cell_type": "code",
   "execution_count": 44,
   "metadata": {},
   "outputs": [],
   "source": [
    "# SQL query for very low prices\n",
    "query_low_price_anomalies = \"\"\"\n",
    "SELECT \n",
    "    name AS item_name, \n",
    "    price_numeric AS price\n",
    "FROM menu_items\n",
    "WHERE price_numeric < 1\n",
    "ORDER BY price_numeric ASC;\n",
    "\"\"\"\n",
    "\n",
    "# SQL query for very high prices\n",
    "query_high_price_anomalies = \"\"\"\n",
    "SELECT \n",
    "    name AS item_name, \n",
    "    price_numeric AS price\n",
    "FROM menu_items\n",
    "WHERE price_numeric > 50\n",
    "ORDER BY price_numeric DESC;\n",
    "\"\"\"\n"
   ]
  },
  {
   "cell_type": "code",
   "execution_count": 45,
   "metadata": {},
   "outputs": [
    {
     "name": "stdout",
     "output_type": "stream",
     "text": [
      "                      Metric    Value     Category  Min Price  Max Price  \\\n",
      "0              Minimum Price     0.02          NaN        NaN        NaN   \n",
      "1              Maximum Price  2000.00          NaN        NaN        NaN   \n",
      "2              Average Price     7.42          NaN        NaN        NaN   \n",
      "3               Median Price     4.59          NaN        NaN        NaN   \n",
      "4      Category Distribution      NaN  155547475.0       20.0     2000.0   \n",
      "...                      ...      ...          ...        ...        ...   \n",
      "91244   High Price Anomalies      NaN          NaN        NaN        NaN   \n",
      "91245   High Price Anomalies      NaN          NaN        NaN        NaN   \n",
      "91246   High Price Anomalies      NaN          NaN        NaN        NaN   \n",
      "91247   High Price Anomalies      NaN          NaN        NaN        NaN   \n",
      "91248   High Price Anomalies      NaN          NaN        NaN        NaN   \n",
      "\n",
      "       Avg Price                                Item Name  Price  \n",
      "0            NaN                                      NaN    NaN  \n",
      "1            NaN                                      NaN    NaN  \n",
      "2            NaN                                      NaN    NaN  \n",
      "3            NaN                                      NaN    NaN  \n",
      "4          416.0                                      NaN    NaN  \n",
      "...          ...                                      ...    ...  \n",
      "91244        NaN                           Plateau Sushi    50.5  \n",
      "91245        NaN  Eendefilet op dire wijzen ( 2personen )   50.5  \n",
      "91246        NaN                      Aldeneyk Pinot Noir   50.3  \n",
      "91247        NaN              J.DANIEL'S BOURBON 40° 70CL   50.3  \n",
      "91248        NaN              J.DANIEL'S BOURBON 40° 70CL   50.3  \n",
      "\n",
      "[91249 rows x 8 columns]\n"
     ]
    }
   ],
   "source": [
    "# Execute the queries for low and high price anomalies\n",
    "cursor.execute(query_low_price_anomalies)\n",
    "low_price_anomalies = cursor.fetchall()\n",
    "\n",
    "cursor.execute(query_high_price_anomalies)\n",
    "high_price_anomalies = cursor.fetchall()\n",
    "\n",
    "# Prepare data for DataFrame for anomalies\n",
    "low_price_data = {\n",
    "    'Metric': ['Low Price Anomalies'] * len(low_price_anomalies),\n",
    "    'Item Name': [row[0] for row in low_price_anomalies],\n",
    "    'Price': [row[1] for row in low_price_anomalies]\n",
    "}\n",
    "\n",
    "high_price_data = {\n",
    "    'Metric': ['High Price Anomalies'] * len(high_price_anomalies),\n",
    "    'Item Name': [row[0] for row in high_price_anomalies],\n",
    "    'Price': [row[1] for row in high_price_anomalies]\n",
    "}\n",
    "\n",
    "# Create DataFrames\n",
    "low_price_df = pd.DataFrame(low_price_data)\n",
    "high_price_df = pd.DataFrame(high_price_data)\n",
    "\n",
    "# Append anomalies to the main DataFrame\n",
    "main_df = pd.concat([main_df, low_price_df, high_price_df], ignore_index=True)\n",
    "\n",
    "print(main_df)\n"
   ]
  },
  {
   "cell_type": "code",
   "execution_count": 75,
   "metadata": {},
   "outputs": [
    {
     "name": "stdout",
     "output_type": "stream",
     "text": [
      "58\n"
     ]
    }
   ],
   "source": [
    "# Check for duplicates in 'Item Name'\n",
    "print(cheapest_items_df['Item Name'].duplicated().sum())\n",
    "\n"
   ]
  },
  {
   "cell_type": "code",
   "execution_count": 76,
   "metadata": {},
   "outputs": [],
   "source": [
    "# Sort by price and select top 10\n",
    "top_cheapest_items_df = cheapest_items_df.sort_values(by='Price').head(10)\n"
   ]
  },
  {
   "cell_type": "code",
   "execution_count": 79,
   "metadata": {},
   "outputs": [],
   "source": [
    "top_cheapest_items_df['Item Name'] = top_cheapest_items_df['Item Name'] + \" (\" + top_cheapest_items_df.index.astype(str) + \")\"\n"
   ]
  },
  {
   "cell_type": "code",
   "execution_count": 80,
   "metadata": {},
   "outputs": [],
   "source": [
    "top_cheapest_items_df = top_cheapest_items_df.drop_duplicates(subset='Item Name')\n"
   ]
  },
  {
   "cell_type": "code",
   "execution_count": 81,
   "metadata": {},
   "outputs": [
    {
     "name": "stdout",
     "output_type": "stream",
     "text": [
      "               Metric  Value  Category  Min Price  Max Price  Avg Price  \\\n",
      "22738  Cheapest Items    NaN       NaN        NaN        NaN        NaN   \n",
      "22758  Cheapest Items    NaN       NaN        NaN        NaN        NaN   \n",
      "91259  Cheapest Items    NaN       NaN        NaN        NaN        NaN   \n",
      "22778  Cheapest Items    NaN       NaN        NaN        NaN        NaN   \n",
      "91299  Cheapest Items    NaN       NaN        NaN        NaN        NaN   \n",
      "91279  Cheapest Items    NaN       NaN        NaN        NaN        NaN   \n",
      "22742  Cheapest Items    NaN       NaN        NaN        NaN        NaN   \n",
      "22743  Cheapest Items    NaN       NaN        NaN        NaN        NaN   \n",
      "22745  Cheapest Items    NaN       NaN        NaN        NaN        NaN   \n",
      "22746  Cheapest Items    NaN       NaN        NaN        NaN        NaN   \n",
      "\n",
      "                 Item Name  Price  \n",
      "22738  Ice Squeeze (22738)   0.02  \n",
      "22758  Ice Squeeze (22758)   0.02  \n",
      "91259  Ice Squeeze (91259)   0.02  \n",
      "22778  Ice Squeeze (22778)   0.02  \n",
      "91299  Ice Squeeze (91299)   0.02  \n",
      "91279  Ice Squeeze (91279)   0.02  \n",
      "22742      Miranda (22742)   0.03  \n",
      "22743      Miranda (22743)   0.03  \n",
      "22745      Miranda (22745)   0.03  \n",
      "22746      Miranda (22746)   0.03  \n"
     ]
    }
   ],
   "source": [
    "print(top_cheapest_items_df)\n"
   ]
  },
  {
   "cell_type": "code",
   "execution_count": 46,
   "metadata": {},
   "outputs": [
    {
     "data": {
      "image/png": "[encoded data removed]",
      "text/plain": [
       "<Figure size 640x480 with 1 Axes>"
      ]
     },
     "metadata": {},
     "output_type": "display_data"
    }
   ],
   "source": [
    "import matplotlib.pyplot as plt\n",
    "\n",
    "# Фільтруємо дані для основних метрик\n",
    "metrics_df = main_df[main_df['Metric'].isin(['Minimum Price', 'Maximum Price', 'Average Price', 'Median Price'])]\n",
    "\n",
    "# Побудова графіка\n",
    "plt.bar(metrics_df['Metric'], metrics_df['Value'], color='skyblue')\n",
    "plt.title('Basic Price Metrics')\n",
    "plt.ylabel('Price (€)')\n",
    "plt.xlabel('Metric')\n",
    "plt.xticks(rotation=45)\n",
    "plt.show()\n"
   ]
  },
  {
   "cell_type": "code",
   "execution_count": 50,
   "metadata": {},
   "outputs": [
    {
     "name": "stderr",
     "output_type": "stream",
     "text": [
      "C:\\Users\\Anastasiia\\AppData\\Local\\Temp\\ipykernel_7028\\1091816430.py:10: UserWarning: set_ticklabels() should only be used with a fixed number of ticks, i.e. after set_ticks() or using a FixedLocator.\n",
      "  ax.set_xticklabels(metrics_df['Metric'], rotation=45)\n"
     ]
    },
    {
     "data": {
      "image/png": "[encoded data removed]",
      "text/plain": [
       "<Figure size 640x480 with 1 Axes>"
      ]
     },
     "metadata": {},
     "output_type": "display_data"
    }
   ],
   "source": [
    "import matplotlib.ticker as ticker\n",
    "\n",
    "# Logarithmic scale with euro formatting\n",
    "fig, ax = plt.subplots()\n",
    "ax.bar(metrics_df['Metric'], metrics_df['Value'], color='skyblue')\n",
    "ax.set_yscale('log')\n",
    "ax.set_title('Basic Price Metrics (Log Scale)')\n",
    "ax.set_ylabel('Price (€)')\n",
    "ax.set_xlabel('Metric')\n",
    "ax.set_xticklabels(metrics_df['Metric'], rotation=45)\n",
    "\n",
    "# Format Y-axis to show euro values\n",
    "ax.yaxis.set_major_formatter(ticker.FuncFormatter(lambda x, _: f\"€{x:.2f}\"))\n",
    "\n",
    "plt.show()\n"
   ]
  },
  {
   "cell_type": "code",
   "execution_count": 73,
   "metadata": {},
   "outputs": [
    {
     "data": {
      "image/png": "[encoded data removed]",
      "text/plain": [
       "<Figure size 640x480 with 1 Axes>"
      ]
     },
     "metadata": {},
     "output_type": "display_data"
    }
   ],
   "source": [
    "# We filter the data for most expensive dishes\n",
    "expensive_items_df = main_df[main_df['Metric'] == 'Most Expensive Items']\n",
    "\n",
    "# Build a graph\n",
    "plt.barh(expensive_items_df['Item Name'], expensive_items_df['Price'], color='orange')\n",
    "plt.title('Top 10 Most Expensive Items')\n",
    "plt.xlabel('Price (€)')\n",
    "plt.ylabel('Item Name')\n",
    "plt.show()\n"
   ]
  },
  {
   "cell_type": "code",
   "execution_count": 87,
   "metadata": {},
   "outputs": [],
   "source": [
    "query_low_price_uniq = \"\"\"\n",
    "SELECT DISTINCT name AS item_name, MIN(price_numeric) AS price\n",
    "FROM menu_items\n",
    "GROUP BY name\n",
    "ORDER BY price ASC\n",
    "LIMIT 10;\n",
    "\"\"\""
   ]
  },
  {
   "cell_type": "code",
   "execution_count": 86,
   "metadata": {},
   "outputs": [
    {
     "data": {
      "text/plain": [
       "'\\nSELECT DISTINCT name, price_numeric\\nFROM menu_items\\nORDER BY price_numeric ASC\\nLIMIT 10;\\n'"
      ]
     },
     "execution_count": 86,
     "metadata": {},
     "output_type": "execute_result"
    }
   ],
   "source": [
    "\"\"\"\n",
    "SELECT DISTINCT name, price_numeric\n",
    "FROM menu_items\n",
    "ORDER BY price_numeric ASC\n",
    "LIMIT 10;\n",
    "\"\"\"\n"
   ]
  },
  {
   "cell_type": "code",
   "execution_count": 85,
   "metadata": {},
   "outputs": [
    {
     "data": {
      "text/plain": [
       "'\\nSELECT name AS item_name, MIN(price_numeric) AS price\\nFROM menu_items\\nGROUP BY name\\nORDER BY price ASC\\nLIMIT 10;\\n'"
      ]
     },
     "execution_count": 85,
     "metadata": {},
     "output_type": "execute_result"
    }
   ],
   "source": [
    "\"\"\"\n",
    "SELECT name AS item_name, MIN(price_numeric) AS price\n",
    "FROM menu_items\n",
    "GROUP BY name\n",
    "ORDER BY price ASC\n",
    "LIMIT 10;\n",
    "\"\"\"\n"
   ]
  },
  {
   "cell_type": "code",
   "execution_count": 66,
   "metadata": {},
   "outputs": [
    {
     "data": {
      "image/png": "[encoded data removed]",
      "text/plain": [
       "<Figure size 640x480 with 1 Axes>"
      ]
     },
     "metadata": {},
     "output_type": "display_data"
    }
   ],
   "source": [
    "# We filter the data for the cheapest dishes\n",
    "cheapest_items_df = main_df[main_df['Metric'] == 'Cheapest Items']\n",
    "\n",
    "# Build a graph\n",
    "plt.barh(cheapest_items_df['Item Name'], cheapest_items_df['Price'], color='pink')\n",
    "plt.title('Top 10 Cheapest Items')\n",
    "plt.xlabel('Price (€)')\n",
    "plt.ylabel('Item Name')\n",
    "plt.show()\n"
   ]
  },
  {
   "cell_type": "code",
   "execution_count": 62,
   "metadata": {},
   "outputs": [
    {
     "data": {
      "image/png": "[encoded data removed]",
      "text/plain": [
       "<Figure size 640x480 with 1 Axes>"
      ]
     },
     "metadata": {},
     "output_type": "display_data"
    }
   ],
   "source": [
    "# Filter top 10 most expensive anomalies\n",
    "top_high_price_anomalies = high_price_anomalies_df.sort_values(by='Price', ascending=False).head(10)\n",
    "\n",
    "# Plot only top 10\n",
    "plt.barh(top_high_price_anomalies['Item Name'], top_high_price_anomalies['Price'], color='gold')\n",
    "plt.title('Top 10 High Price Anomalies')\n",
    "plt.xlabel('Price (€)')\n",
    "plt.ylabel('Item Name')\n",
    "plt.show()\n"
   ]
  }
 ],
 "metadata": {
  "kernelspec": {
   "display_name": ".venv",
   "language": "python",
   "name": "python3"
  },
  "language_info": {
   "codemirror_mode": {
    "name": "ipython",
    "version": 3
   },
   "file_extension": ".py",
   "mimetype": "text/x-python",
   "name": "python",
   "nbconvert_exporter": "python",
   "pygments_lexer": "ipython3",
   "version": "3.12.6"
  }
 },
 "nbformat": 4,
 "nbformat_minor": 2
}
