{
 "cells": [
  {
   "cell_type": "markdown",
   "metadata": {},
   "source": [
    "## Question A4: Map locations offering kapsalons and their average price.\n",
    "--> also added the count per location of restaurants having 'kapsalon' on the menu"
   ]
  },
  {
   "cell_type": "markdown",
   "metadata": {},
   "source": [
    "#### TakeAway"
   ]
  },
  {
   "cell_type": "code",
   "execution_count": 20,
   "metadata": {},
   "outputs": [],
   "source": [
    "query_a4_resto_takeaway = \"\"\"\n",
    "    SELECT\n",
    "        restaurants.primarySlug, restaurants.name, restaurants.latitude, restaurants.longitude,\n",
    "        AVG(CASE WHEN menuItems.name LIKE '%kapsalon%' THEN menuItems.price ELSE NULL END) AS avg_kapsalon_price,\n",
    "        COUNT(CASE WHEN menuItems.name LIKE '%kapsalon%' THEN menuItems.price ELSE NULL END) AS count_kapsalon_options\n",
    "    FROM\n",
    "        restaurants\n",
    "    JOIN \n",
    "        menuItems ON restaurants.primarySlug = menuItems.primarySlug\n",
    "    WHERE\n",
    "        menuItems.name LIKE '%kapsalon%'\n",
    "    GROUP BY\n",
    "        restaurants.primarySlug\n",
    "    ORDER BY\n",
    "\t    avg_kapsalon_price DESC;\n",
    "\"\"\""
   ]
  },
  {
   "cell_type": "markdown",
   "metadata": {},
   "source": [
    "### Connect to the database and excute the query --> method: read_sql_query"
   ]
  },
  {
   "cell_type": "code",
   "execution_count": 21,
   "metadata": {},
   "outputs": [
    {
     "name": "stdout",
     "output_type": "stream",
     "text": [
      "Query df_a4_resto_takeaway:              primarySlug                          name   latitude  longitude  \\\n",
      "0       melita-original               Melita Original  50.905063   3.528835   \n",
      "1          cannur-kebab  Cannur Pizza Pasta Pitta BBQ  51.005845   3.888688   \n",
      "2         anatolia-2320          Anatolia Hoogstraten  51.396100   4.753590   \n",
      "3  flamingo-pizza-kebap        Flamingo Pizza & Kebap  51.355780   4.865092   \n",
      "4            qubbe-bvba                  Qubbe Lounge  50.979642   5.491545   \n",
      "\n",
      "   avg_kapsalon_price  count_kapsalon_options  \n",
      "0           22.785714                       7  \n",
      "1           20.844000                      10  \n",
      "2           19.166667                       9  \n",
      "3           17.350000                      10  \n",
      "4           16.000000                       2  \n"
     ]
    }
   ],
   "source": [
    "import sqlite3\n",
    "import pandas as pd\n",
    "\n",
    "\n",
    "# database_paths\n",
    "deliveroo_db = r\"..\\databases\\deliveroo.db\"\n",
    "takeaway_db = r\"..\\databases\\takeaway.db\"\n",
    "ubereats_db = r\"..\\databases\\ubereats.db\"\n",
    "\n",
    "# set the variables for query and database\n",
    "database = takeaway_db\n",
    "\n",
    "# Connect to the deliveroo database\n",
    "connection = sqlite3.connect(database)\n",
    "\n",
    "# Execute queries and assign to dataframe\n",
    "#df_a4_deli = pd.read_sql_query(query_a4_deli, connection)\n",
    "#df_b3_deli = pd.read_sql_query(query_b3_deli, connection)\n",
    "#df_a4b3_deli = pd.read_sql_query(query_a4b3_deli, connection)\n",
    "df_a4_resto_takeaway = pd.read_sql_query(query_a4_resto_takeaway, connection)\n",
    "#df_b1_deliveroo = pd.read_sql_query(query_b1_deliveroo, connection)\n",
    "\n",
    "# Close the connection to the database (this may help avoiding database locks)\n",
    "connection.close()\n",
    "\n",
    "# Print the whole shebang\n",
    "#print(\"Query df_a4_deli: \", df_a4_deli.head())\n",
    "#print(\"Query df_b3_deli: \", df_b3_deli.head())\n",
    "#print(\"Query df_a4b3_deli: \", df_a4b3_deli.head())\n",
    "print(\"Query df_a4_resto_takeaway: \", df_a4_resto_takeaway.head())\n",
    "#print(\"Query df_b1_deliveroo: \", df_b1_deliveroo.head())"
   ]
  },
  {
   "cell_type": "markdown",
   "metadata": {},
   "source": [
    "#### Distribution of the average prices for a kapsalon per restaurant"
   ]
  },
  {
   "cell_type": "code",
   "execution_count": 22,
   "metadata": {},
   "outputs": [
    {
     "name": "stdout",
     "output_type": "stream",
     "text": [
      "Minimum value:  5.0\n",
      "Mean value:  10.785014778973599\n",
      "Maximum value:  22.785714285714285\n",
      "count     867.000000\n",
      "skew        0.501775\n",
      "mean       10.785015\n",
      "median     10.833333\n",
      "min         5.000000\n",
      "max        22.785714\n",
      "Name: avg_kapsalon_price, dtype: float64\n",
      "867.0 0.5017746857594648 10.785014778973599 10.833333333333334 5.0 22.785714285714285\n",
      "866    Öz Ahi Döner\n",
      "Name: name, dtype: object\n",
      "0    Melita Original\n",
      "Name: name, dtype: object\n"
     ]
    }
   ],
   "source": [
    "df = df_a4_resto_takeaway\n",
    "column = \"avg_kapsalon_price\"\n",
    "groups = ['avg_kapsalon_price']\n",
    "\n",
    "minimum = df[column].min()\n",
    "mean = df[column].mean()\n",
    "maximum = df[column].max()\n",
    "#som = df_agg[column].sum()\n",
    "\n",
    "print(\"Minimum value: \", minimum)\n",
    "print(\"Mean value: \", mean)\n",
    "print(\"Maximum value: \", maximum)\n",
    "#print(\"Totaal: \", som)\n",
    "\n",
    "print(df[column].agg(['count','skew','mean','median', 'min', 'max']))\n",
    "count,skew,mean,median,mini,maxi = df[column].agg(['count','skew','mean','median', 'min', 'max'])\n",
    "print(count,skew,mean,median,mini,maxi)\n",
    "print(df['name'][df[column] == mini])\n",
    "print(df['name'][df[column] == maxi])\n"
   ]
  },
  {
   "cell_type": "code",
   "execution_count": 23,
   "metadata": {},
   "outputs": [
    {
     "data": {
      "text/plain": [
       "<Axes: ylabel='avg_kapsalon_price'>"
      ]
     },
     "execution_count": 23,
     "metadata": {},
     "output_type": "execute_result"
    },
    {
     "data": {
      "image/png": "[encoded data removed]",
      "text/plain": [
       "<Figure size 640x480 with 1 Axes>"
      ]
     },
     "metadata": {},
     "output_type": "display_data"
    }
   ],
   "source": [
    "import seaborn as sns\n",
    "sns.boxplot(data=df_a4_resto_takeaway, y='avg_kapsalon_price', color='orange', linewidth=1.5, width=0.5)"
   ]
  },
  {
   "cell_type": "markdown",
   "metadata": {},
   "source": [
    "#### Create a plot with color scale (green to dark red) with increasing value\n"
   ]
  },
  {
   "cell_type": "code",
   "execution_count": 24,
   "metadata": {},
   "outputs": [],
   "source": [
    "import folium\n",
    "import pandas as pd\n",
    "import branca\n",
    "\n",
    "df = df_a4_resto_takeaway\n",
    "value_column = 'avg_kapsalon_price'\n",
    "value_column_2 = 'count_kapsalon_options'\n",
    "caption = \"Average price for kapsalon in €\"\n",
    "q1 = df[value_column].quantile(0.25)\n",
    "q2 = df[value_column].quantile(0.50)\n",
    "q3 = df[value_column].quantile(0.75)\n",
    "\n",
    "\n",
    "# Step : Define count ranges and assign colors\n",
    "def price_color(value):\n",
    "    if value < q1:\n",
    "        return 'green'\n",
    "    elif value < q2:\n",
    "        return 'orange'\n",
    "    elif value < q3:\n",
    "        return 'red'\n",
    "    else:\n",
    "        return 'darkred'\n",
    "\n",
    "# Step : Create a map with Folium\n",
    "m = folium.Map(location=[51.02804780556587, 4.478784607950115], zoom_start=9)  # Centered on Mechelen (only Flanders data)\n",
    "\n",
    "# Step : Adding markers for each point of interest with count per location information\n",
    "for i, row in df.iterrows():\n",
    "    folium.CircleMarker(\n",
    "        location=[row['latitude'], row['longitude']],\n",
    "        radius=5,  # You can adjust the size of the marker based on the average price\n",
    "        popup=f\"Resto: {row['name']}<br>Price: {round(row[value_column],2)}<br>Nr of options: {row[value_column_2]}\",\n",
    "        color=price_color(row[value_column]),  # Use the function to determine the color\n",
    "        fill=True,\n",
    "        fill_color=price_color(row[value_column]),\n",
    "        fill_opacity=0.6\n",
    "    ).add_to(m)\n",
    "\n",
    "# Step : Create a legend\n",
    "color_scale = branca.colormap.StepColormap(['green', 'orange', 'red', 'darkred'], \n",
    "                                             vmin=mini, vmax=maxi, \n",
    "                                             index=[0, q1, q2, q3, maxi], \n",
    "                                             caption=caption)\n",
    "\n",
    "# Add the legend to the map\n",
    "color_scale.add_to(m)\n",
    "\n",
    "# Step : Save the map to an HTML file\n",
    "m.save(\"../assets/geo/kapsalon_per_restaurant_takeaway.html\")\n",
    "\n",
    "# You can now open the HTML file to see the map\n",
    "\n",
    "\n"
   ]
  },
  {
   "cell_type": "markdown",
   "metadata": {},
   "source": [
    "### Create a static map of Belgium with 1 value"
   ]
  },
  {
   "cell_type": "code",
   "execution_count": 25,
   "metadata": {},
   "outputs": [],
   "source": [
    "import geopandas as gpd\n",
    "import pandas as pd\n",
    "\n",
    "import matplotlib.pyplot as plt\n",
    "from shapely.geometry import Point\n"
   ]
  },
  {
   "cell_type": "code",
   "execution_count": 26,
   "metadata": {},
   "outputs": [
    {
     "data": {
      "text/plain": [
       "Text(0.5, 1.0, 'Average price for kapsalon in €')"
      ]
     },
     "execution_count": 26,
     "metadata": {},
     "output_type": "execute_result"
    },
    {
     "data": {
      "image/png": "[encoded data removed]",
      "text/plain": [
       "<Figure size 1000x1000 with 2 Axes>"
      ]
     },
     "metadata": {},
     "output_type": "display_data"
    }
   ],
   "source": [
    "# Load data (already done above)\n",
    "\n",
    "# Creating point geometry with Longitude and Latitude\n",
    "geometry = [Point(xy) for xy in zip(df['longitude'], df['latitude'])]\n",
    "\n",
    "# Create GeoDataFrame\n",
    "gdf = gpd.GeoDataFrame(df, geometry=geometry)\n",
    "\n",
    "# Setting the reference frame (CRS), e.g. EPSG:4326\n",
    "gdf.set_crs(epsg=4326, inplace=True)\n",
    "\n",
    "# Load administrative boundaries (e.g. Belgium)\n",
    "# Replace 'path/to/belgium_shapefile.shp' with the path to your file\n",
    "# Downloaded from: https://gadm.org/download_country.html#google_vignette\n",
    "borders = gpd.read_file(r\"..\\assets\\geo\\gadm41_BEL_3.shp\")\n",
    "\n",
    "# Set the frame of reference for the boundaries if different (for example EPSG:4326)\n",
    "#borders = borders.to_crs(epsg=4326)\n",
    "\n",
    "# Visualization\n",
    "fig, ax = plt.subplots(figsize=(10, 10))\n",
    "\n",
    "# Draw administrative boundaries on the map\n",
    "borders.plot(ax = ax, color='white', edgecolor='black', linewidth=1) \n",
    "\n",
    "# Draw price points (Price)\n",
    "scatter = gdf.plot(ax=ax, \n",
    "                   column=value_column, \n",
    "                   cmap='viridis',  # Color map\n",
    "                   legend=True, \n",
    "                   markersize=10)\n",
    "\n",
    "# Add a legend\n",
    "handles, labels = scatter.get_legend_handles_labels()\n",
    "ax.legend(handles, [f'{int(float(label))}' for label in labels])\n",
    "\n",
    "\n",
    "plt.title(caption)\n",
    "#plt.xlabel('Longitude')\n",
    "#plt.ylabel('Latitude')\n",
    "#plt.grid()\n",
    "#plt.show()"
   ]
  },
  {
   "cell_type": "markdown",
   "metadata": {},
   "source": [
    "### Interactive map of Belgium"
   ]
  },
  {
   "cell_type": "code",
   "execution_count": 27,
   "metadata": {},
   "outputs": [
    {
     "data": {
      "text/plain": [
       "True"
      ]
     },
     "execution_count": 27,
     "metadata": {},
     "output_type": "execute_result"
    }
   ],
   "source": [
    "import folium\n",
    "from folium.plugins import MarkerCluster\n",
    "import webbrowser\n",
    "\n",
    "# Remove rows that have NaN in the latitude or longitude columns\n",
    "df_clean = df.dropna(subset=['latitude', 'longitude'])\n",
    "\n",
    "# Create a map with the appropriate center\n",
    "properties = folium.Map(location=[df_clean['latitude'].mean(), df_clean['longitude'].mean()], zoom_start=9)\n",
    "\n",
    "folium.TileLayer('Stamen Toner', attr='Map tiles by Stamen Design, CC BY 3.0 — Map data © OpenStreetMap').add_to(properties)\n",
    "\n",
    "# Add MarkerCluster to improve performance with large numbers of markers\n",
    "marker_cluster = MarkerCluster().add_to(properties)\n",
    "\n",
    "# Add tags to the cluster\n",
    "for index, row in df_clean.iterrows():\n",
    "    # This is where you add the text and values you want to display on click\n",
    "    text = f\"\"\"\n",
    "    Price: {round(row.avg_kapsalon_price,2)} €<br>\n",
    "    Nr of options: {row.count_kapsalon_options}<br>   \n",
    "    \"\"\"\n",
    "    folium.Marker(\n",
    "        [row['latitude'], row['longitude']],\n",
    "        popup=folium.Popup(text, max_width=400),\n",
    "        tooltip=round(row.avg_kapsalon_price,2) # This is where you add the text and values you want to display on hover over\n",
    "    ).add_to(marker_cluster)\n",
    "\n",
    "properties\n",
    "\n",
    "# Save map to the html\n",
    "map_path = r\"..\\assets\\geo\\kapsalon_per_restaurant_takeaway_interactive.html\"\n",
    "properties.save(map_path)\n",
    "\n",
    "# Open map in browser\n",
    "webbrowser.open(map_path)\n"
   ]
  }
 ],
 "metadata": {
  "kernelspec": {
   "display_name": ".venv",
   "language": "python",
   "name": "python3"
  },
  "language_info": {
   "codemirror_mode": {
    "name": "ipython",
    "version": 3
   },
   "file_extension": ".py",
   "mimetype": "text/x-python",
   "name": "python",
   "nbconvert_exporter": "python",
   "pygments_lexer": "ipython3",
   "version": "3.12.6"
  }
 },
 "nbformat": 4,
 "nbformat_minor": 2
}
